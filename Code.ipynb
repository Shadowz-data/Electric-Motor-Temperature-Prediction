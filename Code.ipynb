{
 "cells": [
  {
   "cell_type": "markdown",
   "metadata": {},
   "source": [
    "# Motor Temperature Prediction"
   ]
  },
  {
   "cell_type": "markdown",
   "metadata": {},
   "source": [
    "Importing necessary Libraries used in the code"
   ]
  },
  {
   "cell_type": "code",
   "execution_count": 1,
   "metadata": {
    "ExecuteTime": {
     "end_time": "2020-02-15T06:47:28.959979Z",
     "start_time": "2020-02-15T06:47:19.474408Z"
    }
   },
   "outputs": [],
   "source": [
    "import pandas as pd\n",
    "import matplotlib.pyplot as plt\n",
    "import joblib\n",
    "import seaborn as sns\n",
    "import numpy as np\n",
    "\n",
    "from sklearn.model_selection import train_test_split\n",
    "from sklearn.metrics import mean_squared_error\n",
    "\n",
    "from sklearn.feature_selection import RFE\n",
    "from sklearn.ensemble import ExtraTreesRegressor\n",
    "\n",
    "import warnings"
   ]
  },
  {
   "cell_type": "markdown",
   "metadata": {},
   "source": [
    "-----------------"
   ]
  },
  {
   "cell_type": "markdown",
   "metadata": {},
   "source": [
    "Importing Train data file of the Kaggle competition"
   ]
  },
  {
   "cell_type": "code",
   "execution_count": 2,
   "metadata": {
    "ExecuteTime": {
     "end_time": "2020-02-15T06:47:42.992516Z",
     "start_time": "2020-02-15T06:47:41.757953Z"
    }
   },
   "outputs": [],
   "source": [
    "data = pd.read_csv(\"train.csv\")"
   ]
  },
  {
   "cell_type": "markdown",
   "metadata": {},
   "source": [
    "Removing the index as it is not required for model building and predictions"
   ]
  },
  {
   "cell_type": "code",
   "execution_count": 3,
   "metadata": {
    "ExecuteTime": {
     "end_time": "2020-02-15T06:47:48.314300Z",
     "start_time": "2020-02-15T06:47:48.261581Z"
    }
   },
   "outputs": [],
   "source": [
    "data = data.drop(data.columns[0], axis=1)"
   ]
  },
  {
   "cell_type": "markdown",
   "metadata": {},
   "source": [
    "------------"
   ]
  },
  {
   "cell_type": "markdown",
   "metadata": {},
   "source": [
    "## Exoploratory Data Analysis"
   ]
  },
  {
   "cell_type": "code",
   "execution_count": 4,
   "metadata": {
    "ExecuteTime": {
     "end_time": "2020-02-15T06:47:53.668719Z",
     "start_time": "2020-02-15T06:47:53.622834Z"
    }
   },
   "outputs": [
    {
     "data": {
      "text/html": [
       "<div>\n",
       "<style scoped>\n",
       "    .dataframe tbody tr th:only-of-type {\n",
       "        vertical-align: middle;\n",
       "    }\n",
       "\n",
       "    .dataframe tbody tr th {\n",
       "        vertical-align: top;\n",
       "    }\n",
       "\n",
       "    .dataframe thead th {\n",
       "        text-align: right;\n",
       "    }\n",
       "</style>\n",
       "<table border=\"1\" class=\"dataframe\">\n",
       "  <thead>\n",
       "    <tr style=\"text-align: right;\">\n",
       "      <th></th>\n",
       "      <th>ambient</th>\n",
       "      <th>coolant</th>\n",
       "      <th>u_d</th>\n",
       "      <th>u_q</th>\n",
       "      <th>motor_speed</th>\n",
       "      <th>torque</th>\n",
       "      <th>i_d</th>\n",
       "      <th>i_q</th>\n",
       "      <th>pm</th>\n",
       "      <th>stator_yoke</th>\n",
       "      <th>stator_tooth</th>\n",
       "      <th>stator_winding</th>\n",
       "      <th>profile_id</th>\n",
       "    </tr>\n",
       "  </thead>\n",
       "  <tbody>\n",
       "    <tr>\n",
       "      <th>0</th>\n",
       "      <td>-0.752143</td>\n",
       "      <td>-1.118446</td>\n",
       "      <td>0.327935</td>\n",
       "      <td>-1.297858</td>\n",
       "      <td>-1.222428</td>\n",
       "      <td>-0.250182</td>\n",
       "      <td>1.029572</td>\n",
       "      <td>-0.245860</td>\n",
       "      <td>-2.522071</td>\n",
       "      <td>-1.831422</td>\n",
       "      <td>-2.066143</td>\n",
       "      <td>-2.018033</td>\n",
       "      <td>4</td>\n",
       "    </tr>\n",
       "    <tr>\n",
       "      <th>1</th>\n",
       "      <td>-0.782892</td>\n",
       "      <td>-1.116681</td>\n",
       "      <td>0.332771</td>\n",
       "      <td>-1.301822</td>\n",
       "      <td>-1.222428</td>\n",
       "      <td>-0.249431</td>\n",
       "      <td>1.029448</td>\n",
       "      <td>-0.245818</td>\n",
       "      <td>-2.522673</td>\n",
       "      <td>-1.830400</td>\n",
       "      <td>-2.064073</td>\n",
       "      <td>-2.017343</td>\n",
       "      <td>4</td>\n",
       "    </tr>\n",
       "    <tr>\n",
       "      <th>2</th>\n",
       "      <td>-0.780935</td>\n",
       "      <td>-1.116764</td>\n",
       "      <td>0.333700</td>\n",
       "      <td>-1.301852</td>\n",
       "      <td>-1.222430</td>\n",
       "      <td>-0.248636</td>\n",
       "      <td>1.032845</td>\n",
       "      <td>-0.246955</td>\n",
       "      <td>-2.521639</td>\n",
       "      <td>-1.830333</td>\n",
       "      <td>-2.063137</td>\n",
       "      <td>-2.017632</td>\n",
       "      <td>4</td>\n",
       "    </tr>\n",
       "    <tr>\n",
       "      <th>3</th>\n",
       "      <td>-0.774043</td>\n",
       "      <td>-1.116775</td>\n",
       "      <td>0.335206</td>\n",
       "      <td>-1.303118</td>\n",
       "      <td>-1.222429</td>\n",
       "      <td>-0.248701</td>\n",
       "      <td>1.031807</td>\n",
       "      <td>-0.246610</td>\n",
       "      <td>-2.521900</td>\n",
       "      <td>-1.830498</td>\n",
       "      <td>-2.062795</td>\n",
       "      <td>-2.018145</td>\n",
       "      <td>4</td>\n",
       "    </tr>\n",
       "    <tr>\n",
       "      <th>4</th>\n",
       "      <td>-0.762936</td>\n",
       "      <td>-1.116955</td>\n",
       "      <td>0.334901</td>\n",
       "      <td>-1.303017</td>\n",
       "      <td>-1.222429</td>\n",
       "      <td>-0.248197</td>\n",
       "      <td>1.031031</td>\n",
       "      <td>-0.246341</td>\n",
       "      <td>-2.522203</td>\n",
       "      <td>-1.831931</td>\n",
       "      <td>-2.062549</td>\n",
       "      <td>-2.017884</td>\n",
       "      <td>4</td>\n",
       "    </tr>\n",
       "  </tbody>\n",
       "</table>\n",
       "</div>"
      ],
      "text/plain": [
       "    ambient   coolant       u_d       u_q  motor_speed    torque       i_d  \\\n",
       "0 -0.752143 -1.118446  0.327935 -1.297858    -1.222428 -0.250182  1.029572   \n",
       "1 -0.782892 -1.116681  0.332771 -1.301822    -1.222428 -0.249431  1.029448   \n",
       "2 -0.780935 -1.116764  0.333700 -1.301852    -1.222430 -0.248636  1.032845   \n",
       "3 -0.774043 -1.116775  0.335206 -1.303118    -1.222429 -0.248701  1.031807   \n",
       "4 -0.762936 -1.116955  0.334901 -1.303017    -1.222429 -0.248197  1.031031   \n",
       "\n",
       "        i_q        pm  stator_yoke  stator_tooth  stator_winding  profile_id  \n",
       "0 -0.245860 -2.522071    -1.831422     -2.066143       -2.018033           4  \n",
       "1 -0.245818 -2.522673    -1.830400     -2.064073       -2.017343           4  \n",
       "2 -0.246955 -2.521639    -1.830333     -2.063137       -2.017632           4  \n",
       "3 -0.246610 -2.521900    -1.830498     -2.062795       -2.018145           4  \n",
       "4 -0.246341 -2.522203    -1.831931     -2.062549       -2.017884           4  "
      ]
     },
     "execution_count": 4,
     "metadata": {},
     "output_type": "execute_result"
    }
   ],
   "source": [
    "data.head()"
   ]
  },
  {
   "cell_type": "code",
   "execution_count": 5,
   "metadata": {
    "ExecuteTime": {
     "end_time": "2020-02-15T06:47:54.418901Z",
     "start_time": "2020-02-15T06:47:54.302713Z"
    }
   },
   "outputs": [
    {
     "name": "stdout",
     "output_type": "stream",
     "text": [
      "<class 'pandas.core.frame.DataFrame'>\n",
      "RangeIndex: 698649 entries, 0 to 698648\n",
      "Data columns (total 13 columns):\n",
      "ambient           698649 non-null float64\n",
      "coolant           698649 non-null float64\n",
      "u_d               698649 non-null float64\n",
      "u_q               698649 non-null float64\n",
      "motor_speed       698649 non-null float64\n",
      "torque            698649 non-null float64\n",
      "i_d               698649 non-null float64\n",
      "i_q               698649 non-null float64\n",
      "pm                698649 non-null float64\n",
      "stator_yoke       698649 non-null float64\n",
      "stator_tooth      698649 non-null float64\n",
      "stator_winding    698649 non-null float64\n",
      "profile_id        698649 non-null int64\n",
      "dtypes: float64(12), int64(1)\n",
      "memory usage: 69.3 MB\n"
     ]
    }
   ],
   "source": [
    "data.info()"
   ]
  },
  {
   "cell_type": "code",
   "execution_count": 6,
   "metadata": {
    "ExecuteTime": {
     "end_time": "2020-02-15T06:47:54.699944Z",
     "start_time": "2020-02-15T06:47:54.694089Z"
    }
   },
   "outputs": [
    {
     "data": {
      "text/plain": [
       "(698649, 13)"
      ]
     },
     "execution_count": 6,
     "metadata": {},
     "output_type": "execute_result"
    }
   ],
   "source": [
    "data.shape"
   ]
  },
  {
   "cell_type": "code",
   "execution_count": 7,
   "metadata": {
    "ExecuteTime": {
     "end_time": "2020-02-15T06:47:55.140259Z",
     "start_time": "2020-02-15T06:47:55.102897Z"
    }
   },
   "outputs": [
    {
     "data": {
      "text/plain": [
       "ambient           0\n",
       "coolant           0\n",
       "u_d               0\n",
       "u_q               0\n",
       "motor_speed       0\n",
       "torque            0\n",
       "i_d               0\n",
       "i_q               0\n",
       "pm                0\n",
       "stator_yoke       0\n",
       "stator_tooth      0\n",
       "stator_winding    0\n",
       "profile_id        0\n",
       "dtype: int64"
      ]
     },
     "execution_count": 7,
     "metadata": {},
     "output_type": "execute_result"
    }
   ],
   "source": [
    "data.isnull().sum()"
   ]
  },
  {
   "cell_type": "code",
   "execution_count": 8,
   "metadata": {
    "ExecuteTime": {
     "end_time": "2020-02-15T06:47:56.068941Z",
     "start_time": "2020-02-15T06:47:55.630220Z"
    }
   },
   "outputs": [
    {
     "data": {
      "text/html": [
       "<div>\n",
       "<style scoped>\n",
       "    .dataframe tbody tr th:only-of-type {\n",
       "        vertical-align: middle;\n",
       "    }\n",
       "\n",
       "    .dataframe tbody tr th {\n",
       "        vertical-align: top;\n",
       "    }\n",
       "\n",
       "    .dataframe thead th {\n",
       "        text-align: right;\n",
       "    }\n",
       "</style>\n",
       "<table border=\"1\" class=\"dataframe\">\n",
       "  <thead>\n",
       "    <tr style=\"text-align: right;\">\n",
       "      <th></th>\n",
       "      <th>ambient</th>\n",
       "      <th>coolant</th>\n",
       "      <th>u_d</th>\n",
       "      <th>u_q</th>\n",
       "      <th>motor_speed</th>\n",
       "      <th>torque</th>\n",
       "      <th>i_d</th>\n",
       "      <th>i_q</th>\n",
       "      <th>pm</th>\n",
       "      <th>stator_yoke</th>\n",
       "      <th>stator_tooth</th>\n",
       "      <th>stator_winding</th>\n",
       "      <th>profile_id</th>\n",
       "    </tr>\n",
       "  </thead>\n",
       "  <tbody>\n",
       "    <tr>\n",
       "      <th>count</th>\n",
       "      <td>698649.000000</td>\n",
       "      <td>698649.000000</td>\n",
       "      <td>698649.000000</td>\n",
       "      <td>698649.000000</td>\n",
       "      <td>698649.000000</td>\n",
       "      <td>698649.000000</td>\n",
       "      <td>698649.000000</td>\n",
       "      <td>698649.000000</td>\n",
       "      <td>698649.000000</td>\n",
       "      <td>698649.000000</td>\n",
       "      <td>698649.000000</td>\n",
       "      <td>698649.000000</td>\n",
       "      <td>698649.000000</td>\n",
       "    </tr>\n",
       "    <tr>\n",
       "      <th>mean</th>\n",
       "      <td>-0.003129</td>\n",
       "      <td>0.004779</td>\n",
       "      <td>0.004275</td>\n",
       "      <td>-0.005819</td>\n",
       "      <td>-0.006024</td>\n",
       "      <td>-0.002985</td>\n",
       "      <td>0.005794</td>\n",
       "      <td>-0.002809</td>\n",
       "      <td>-0.004385</td>\n",
       "      <td>0.000623</td>\n",
       "      <td>-0.002212</td>\n",
       "      <td>-0.003988</td>\n",
       "      <td>50.737721</td>\n",
       "    </tr>\n",
       "    <tr>\n",
       "      <th>std</th>\n",
       "      <td>0.992710</td>\n",
       "      <td>1.002086</td>\n",
       "      <td>0.997729</td>\n",
       "      <td>1.002404</td>\n",
       "      <td>1.001700</td>\n",
       "      <td>0.997403</td>\n",
       "      <td>0.999005</td>\n",
       "      <td>0.997375</td>\n",
       "      <td>0.995450</td>\n",
       "      <td>1.001119</td>\n",
       "      <td>0.999732</td>\n",
       "      <td>0.998443</td>\n",
       "      <td>22.072923</td>\n",
       "    </tr>\n",
       "    <tr>\n",
       "      <th>min</th>\n",
       "      <td>-7.968341</td>\n",
       "      <td>-1.367800</td>\n",
       "      <td>-1.654878</td>\n",
       "      <td>-1.861463</td>\n",
       "      <td>-1.371529</td>\n",
       "      <td>-3.345953</td>\n",
       "      <td>-3.245874</td>\n",
       "      <td>-3.341639</td>\n",
       "      <td>-2.631991</td>\n",
       "      <td>-1.834688</td>\n",
       "      <td>-2.066143</td>\n",
       "      <td>-2.019973</td>\n",
       "      <td>4.000000</td>\n",
       "    </tr>\n",
       "    <tr>\n",
       "      <th>25%</th>\n",
       "      <td>-0.598182</td>\n",
       "      <td>-1.037856</td>\n",
       "      <td>-0.827631</td>\n",
       "      <td>-0.927994</td>\n",
       "      <td>-0.951892</td>\n",
       "      <td>-0.266604</td>\n",
       "      <td>-0.756753</td>\n",
       "      <td>-0.257268</td>\n",
       "      <td>-0.671621</td>\n",
       "      <td>-0.747074</td>\n",
       "      <td>-0.761951</td>\n",
       "      <td>-0.725651</td>\n",
       "      <td>32.000000</td>\n",
       "    </tr>\n",
       "    <tr>\n",
       "      <th>50%</th>\n",
       "      <td>0.266325</td>\n",
       "      <td>-0.176651</td>\n",
       "      <td>0.267501</td>\n",
       "      <td>-0.099512</td>\n",
       "      <td>-0.140246</td>\n",
       "      <td>-0.187167</td>\n",
       "      <td>0.213188</td>\n",
       "      <td>-0.188490</td>\n",
       "      <td>0.094138</td>\n",
       "      <td>-0.057264</td>\n",
       "      <td>0.005240</td>\n",
       "      <td>0.006893</td>\n",
       "      <td>56.000000</td>\n",
       "    </tr>\n",
       "    <tr>\n",
       "      <th>75%</th>\n",
       "      <td>0.686697</td>\n",
       "      <td>0.648482</td>\n",
       "      <td>0.358460</td>\n",
       "      <td>0.852677</td>\n",
       "      <td>0.855411</td>\n",
       "      <td>0.547458</td>\n",
       "      <td>1.013975</td>\n",
       "      <td>0.499623</td>\n",
       "      <td>0.680431</td>\n",
       "      <td>0.697432</td>\n",
       "      <td>0.772349</td>\n",
       "      <td>0.725208</td>\n",
       "      <td>68.000000</td>\n",
       "    </tr>\n",
       "    <tr>\n",
       "      <th>max</th>\n",
       "      <td>2.967117</td>\n",
       "      <td>2.649032</td>\n",
       "      <td>2.274734</td>\n",
       "      <td>1.793498</td>\n",
       "      <td>2.024151</td>\n",
       "      <td>3.016895</td>\n",
       "      <td>1.060937</td>\n",
       "      <td>2.914185</td>\n",
       "      <td>2.917456</td>\n",
       "      <td>2.449158</td>\n",
       "      <td>2.326668</td>\n",
       "      <td>2.651810</td>\n",
       "      <td>81.000000</td>\n",
       "    </tr>\n",
       "  </tbody>\n",
       "</table>\n",
       "</div>"
      ],
      "text/plain": [
       "             ambient        coolant            u_d            u_q  \\\n",
       "count  698649.000000  698649.000000  698649.000000  698649.000000   \n",
       "mean       -0.003129       0.004779       0.004275      -0.005819   \n",
       "std         0.992710       1.002086       0.997729       1.002404   \n",
       "min        -7.968341      -1.367800      -1.654878      -1.861463   \n",
       "25%        -0.598182      -1.037856      -0.827631      -0.927994   \n",
       "50%         0.266325      -0.176651       0.267501      -0.099512   \n",
       "75%         0.686697       0.648482       0.358460       0.852677   \n",
       "max         2.967117       2.649032       2.274734       1.793498   \n",
       "\n",
       "         motor_speed         torque            i_d            i_q  \\\n",
       "count  698649.000000  698649.000000  698649.000000  698649.000000   \n",
       "mean       -0.006024      -0.002985       0.005794      -0.002809   \n",
       "std         1.001700       0.997403       0.999005       0.997375   \n",
       "min        -1.371529      -3.345953      -3.245874      -3.341639   \n",
       "25%        -0.951892      -0.266604      -0.756753      -0.257268   \n",
       "50%        -0.140246      -0.187167       0.213188      -0.188490   \n",
       "75%         0.855411       0.547458       1.013975       0.499623   \n",
       "max         2.024151       3.016895       1.060937       2.914185   \n",
       "\n",
       "                  pm    stator_yoke   stator_tooth  stator_winding  \\\n",
       "count  698649.000000  698649.000000  698649.000000   698649.000000   \n",
       "mean       -0.004385       0.000623      -0.002212       -0.003988   \n",
       "std         0.995450       1.001119       0.999732        0.998443   \n",
       "min        -2.631991      -1.834688      -2.066143       -2.019973   \n",
       "25%        -0.671621      -0.747074      -0.761951       -0.725651   \n",
       "50%         0.094138      -0.057264       0.005240        0.006893   \n",
       "75%         0.680431       0.697432       0.772349        0.725208   \n",
       "max         2.917456       2.449158       2.326668        2.651810   \n",
       "\n",
       "          profile_id  \n",
       "count  698649.000000  \n",
       "mean       50.737721  \n",
       "std        22.072923  \n",
       "min         4.000000  \n",
       "25%        32.000000  \n",
       "50%        56.000000  \n",
       "75%        68.000000  \n",
       "max        81.000000  "
      ]
     },
     "execution_count": 8,
     "metadata": {},
     "output_type": "execute_result"
    }
   ],
   "source": [
    "data.describe()"
   ]
  },
  {
   "cell_type": "markdown",
   "metadata": {},
   "source": [
    "Histogram"
   ]
  },
  {
   "cell_type": "code",
   "execution_count": 9,
   "metadata": {
    "ExecuteTime": {
     "end_time": "2020-02-15T06:48:01.288896Z",
     "start_time": "2020-02-15T06:47:58.311416Z"
    }
   },
   "outputs": [
    {
     "data": {
      "text/plain": [
       "array([[<matplotlib.axes._subplots.AxesSubplot object at 0x000000000E6E7388>,\n",
       "        <matplotlib.axes._subplots.AxesSubplot object at 0x000000000EF260C8>,\n",
       "        <matplotlib.axes._subplots.AxesSubplot object at 0x000000000EF5B7C8>,\n",
       "        <matplotlib.axes._subplots.AxesSubplot object at 0x000000000EF90BC8>],\n",
       "       [<matplotlib.axes._subplots.AxesSubplot object at 0x000000000EFC7CC8>,\n",
       "        <matplotlib.axes._subplots.AxesSubplot object at 0x000000000EFFFD08>,\n",
       "        <matplotlib.axes._subplots.AxesSubplot object at 0x000000000F036E48>,\n",
       "        <matplotlib.axes._subplots.AxesSubplot object at 0x000000000F06CF48>],\n",
       "       [<matplotlib.axes._subplots.AxesSubplot object at 0x000000000F078B48>,\n",
       "        <matplotlib.axes._subplots.AxesSubplot object at 0x000000000F0B1D08>,\n",
       "        <matplotlib.axes._subplots.AxesSubplot object at 0x000000000F119248>,\n",
       "        <matplotlib.axes._subplots.AxesSubplot object at 0x000000000F152348>],\n",
       "       [<matplotlib.axes._subplots.AxesSubplot object at 0x000000000F189488>,\n",
       "        <matplotlib.axes._subplots.AxesSubplot object at 0x000000000F1C15C8>,\n",
       "        <matplotlib.axes._subplots.AxesSubplot object at 0x000000000F1F8788>,\n",
       "        <matplotlib.axes._subplots.AxesSubplot object at 0x000000000F2328C8>]],\n",
       "      dtype=object)"
      ]
     },
     "execution_count": 9,
     "metadata": {},
     "output_type": "execute_result"
    },
    {
     "data": {
      "image/png": "[encoded data removed]",
      "text/plain": [
       "<Figure size 1440x1080 with 16 Axes>"
      ]
     },
     "metadata": {
      "needs_background": "light"
     },
     "output_type": "display_data"
    }
   ],
   "source": [
    "data.hist(figsize=(20,15))"
   ]
  },
  {
   "cell_type": "markdown",
   "metadata": {},
   "source": [
    "Correlation Matrix with Heatmap"
   ]
  },
  {
   "cell_type": "code",
   "execution_count": 10,
   "metadata": {
    "ExecuteTime": {
     "end_time": "2020-02-15T06:48:07.305426Z",
     "start_time": "2020-02-15T06:48:05.687416Z"
    }
   },
   "outputs": [
    {
     "data": {
      "image/png": "[encoded data removed]",
      "text/plain": [
       "<Figure size 2400x2000 with 2 Axes>"
      ]
     },
     "metadata": {
      "needs_background": "light"
     },
     "output_type": "display_data"
    }
   ],
   "source": [
    "corr = data.corr()\n",
    "plt.figure(figsize = (12, 10), dpi = 200)\n",
    "mask = np.zeros_like(corr, dtype=np.bool)\n",
    "mask[np.triu_indices_from(mask)] = True\n",
    "ax = sns.heatmap(corr, mask = mask, annot = False, cbar = True, cmap = sns.color_palette('PuBu'))"
   ]
  },
  {
   "cell_type": "markdown",
   "metadata": {},
   "source": [
    "Boxplot"
   ]
  },
  {
   "cell_type": "code",
   "execution_count": 11,
   "metadata": {
    "ExecuteTime": {
     "end_time": "2020-02-15T06:48:09.050409Z",
     "start_time": "2020-02-15T06:48:07.398148Z"
    }
   },
   "outputs": [
    {
     "data": {
      "text/plain": [
       "<matplotlib.axes._subplots.AxesSubplot at 0xb55a7c8>"
      ]
     },
     "execution_count": 11,
     "metadata": {},
     "output_type": "execute_result"
    },
    {
     "data": {
      "image/png": "[encoded data removed]",
      "text/plain": [
       "<Figure size 1125x975 with 1 Axes>"
      ]
     },
     "metadata": {
      "needs_background": "light"
     },
     "output_type": "display_data"
    }
   ],
   "source": [
    "plt.figure(figsize = (15, 13), dpi = 75)\n",
    "sns.boxplot(data = data[data.columns[:12]], palette = 'OrRd', linewidth = 0.7)"
   ]
  },
  {
   "cell_type": "markdown",
   "metadata": {},
   "source": [
    "Detecting Outliers"
   ]
  },
  {
   "cell_type": "code",
   "execution_count": 12,
   "metadata": {
    "ExecuteTime": {
     "end_time": "2020-02-15T06:48:09.555509Z",
     "start_time": "2020-02-15T06:48:09.116777Z"
    }
   },
   "outputs": [
    {
     "data": {
      "text/plain": [
       "ambient            26915\n",
       "coolant                0\n",
       "u_d                12453\n",
       "u_q                    0\n",
       "motor_speed            0\n",
       "torque             89097\n",
       "i_d                    0\n",
       "i_q               103797\n",
       "pm                  1063\n",
       "stator_yoke            0\n",
       "stator_tooth           0\n",
       "stator_winding         0\n",
       "profile_id             0\n",
       "dtype: int64"
      ]
     },
     "execution_count": 12,
     "metadata": {},
     "output_type": "execute_result"
    }
   ],
   "source": [
    "Q1 = data.quantile(0.25)\n",
    "Q3 = data.quantile(0.75)\n",
    "IQR = Q3 - Q1\n",
    "((data < (Q1 - 1.5 * IQR)) |(data > (Q3 + 1.5 * IQR))).sum()"
   ]
  },
  {
   "cell_type": "markdown",
   "metadata": {},
   "source": [
    "Removing Outliers"
   ]
  },
  {
   "cell_type": "code",
   "execution_count": 13,
   "metadata": {
    "ExecuteTime": {
     "end_time": "2020-02-15T06:48:09.720453Z",
     "start_time": "2020-02-15T06:48:09.606261Z"
    }
   },
   "outputs": [
    {
     "data": {
      "text/plain": [
       "(570755, 13)"
      ]
     },
     "execution_count": 13,
     "metadata": {},
     "output_type": "execute_result"
    }
   ],
   "source": [
    "data_without_outliers = data[~((data < (Q1 - 1.5 * IQR)) |(data > (Q3 + 1.5 * IQR))).any(axis=1)]\n",
    "data_without_outliers.shape"
   ]
  },
  {
   "cell_type": "markdown",
   "metadata": {},
   "source": [
    "Boxplot without Outliers"
   ]
  },
  {
   "cell_type": "code",
   "execution_count": 14,
   "metadata": {
    "ExecuteTime": {
     "end_time": "2020-02-15T06:48:10.605517Z",
     "start_time": "2020-02-15T06:48:09.785843Z"
    }
   },
   "outputs": [
    {
     "data": {
      "text/plain": [
       "<matplotlib.axes._subplots.AxesSubplot at 0xc4a4188>"
      ]
     },
     "execution_count": 14,
     "metadata": {},
     "output_type": "execute_result"
    },
    {
     "data": {
      "image/png": "[encoded data removed]",
      "text/plain": [
       "<Figure size 1125x975 with 1 Axes>"
      ]
     },
     "metadata": {
      "needs_background": "light"
     },
     "output_type": "display_data"
    }
   ],
   "source": [
    "plt.figure(figsize = (15, 13), dpi = 75)\n",
    "sns.boxplot(data = data_without_outliers[data_without_outliers.columns[:12]], palette = 'PuBu', linewidth = 0.7)"
   ]
  },
  {
   "cell_type": "markdown",
   "metadata": {},
   "source": [
    "------------------"
   ]
  },
  {
   "cell_type": "markdown",
   "metadata": {},
   "source": [
    "Assigning Independent and Dependent Variables to x and y"
   ]
  },
  {
   "cell_type": "code",
   "execution_count": 15,
   "metadata": {
    "ExecuteTime": {
     "end_time": "2020-02-15T06:48:15.715700Z",
     "start_time": "2020-02-15T06:48:15.672756Z"
    }
   },
   "outputs": [],
   "source": [
    "x = data.iloc[:,[0,1,2,3,4,5,6,7,9,10,11,12]]"
   ]
  },
  {
   "cell_type": "code",
   "execution_count": 16,
   "metadata": {
    "ExecuteTime": {
     "end_time": "2020-02-15T06:48:15.947012Z",
     "start_time": "2020-02-15T06:48:15.943109Z"
    }
   },
   "outputs": [],
   "source": [
    "y = data[\"pm\"]"
   ]
  },
  {
   "cell_type": "markdown",
   "metadata": {},
   "source": [
    "-----------------"
   ]
  },
  {
   "cell_type": "markdown",
   "metadata": {},
   "source": [
    "## Model Building"
   ]
  },
  {
   "cell_type": "markdown",
   "metadata": {},
   "source": [
    "--------------"
   ]
  },
  {
   "cell_type": "code",
   "execution_count": 17,
   "metadata": {
    "ExecuteTime": {
     "end_time": "2020-02-15T06:48:37.513508Z",
     "start_time": "2020-02-15T06:48:37.509644Z"
    }
   },
   "outputs": [],
   "source": [
    "model = ExtraTreesRegressor(n_estimators = 200)"
   ]
  },
  {
   "cell_type": "code",
   "execution_count": 18,
   "metadata": {
    "ExecuteTime": {
     "end_time": "2020-02-15T08:03:00.759077Z",
     "start_time": "2020-02-15T06:48:38.603151Z"
    }
   },
   "outputs": [],
   "source": [
    "rfe = RFE(model, 5)\n",
    "fit = rfe.fit(x, y)"
   ]
  },
  {
   "cell_type": "code",
   "execution_count": 19,
   "metadata": {
    "ExecuteTime": {
     "end_time": "2020-02-15T08:03:13.986962Z",
     "start_time": "2020-02-15T08:03:13.646112Z"
    }
   },
   "outputs": [
    {
     "name": "stdout",
     "output_type": "stream",
     "text": [
      "Number of Features selected -> 5\n",
      "Selected Features -> [ True False False False False False False False  True  True  True  True]\n",
      "Feature Ranking -> [1 3 8 5 2 6 7 4 1 1 1 1]\n"
     ]
    }
   ],
   "source": [
    "print(\"Number of Features selected ->\", fit.n_features_)\n",
    "print(\"Selected Features ->\", fit.support_)\n",
    "print(\"Feature Ranking ->\", fit.ranking_)"
   ]
  },
  {
   "cell_type": "markdown",
   "metadata": {},
   "source": [
    "Creating a Pickle File for further usage"
   ]
  },
  {
   "cell_type": "code",
   "execution_count": null,
   "metadata": {},
   "outputs": [],
   "source": [
    "#joblib_file = \"etr_model.pkl\"\n",
    "#with open(joblib_file, 'wb') as file:\n",
    "#    joblib.dump(rfe, file, compress = 9)"
   ]
  },
  {
   "cell_type": "markdown",
   "metadata": {},
   "source": [
    "Splitting the whole data into Train and Test set"
   ]
  },
  {
   "cell_type": "code",
   "execution_count": 20,
   "metadata": {
    "ExecuteTime": {
     "end_time": "2020-02-15T08:03:28.463066Z",
     "start_time": "2020-02-15T08:03:14.245604Z"
    }
   },
   "outputs": [],
   "source": [
    "X_train, X_test, y_train, y_test = train_test_split(x, y, test_size = 0.3)"
   ]
  },
  {
   "cell_type": "markdown",
   "metadata": {},
   "source": [
    "Predicting the testset"
   ]
  },
  {
   "cell_type": "code",
   "execution_count": 21,
   "metadata": {
    "ExecuteTime": {
     "end_time": "2020-02-15T08:19:52.828232Z",
     "start_time": "2020-02-15T08:03:28.959383Z"
    }
   },
   "outputs": [],
   "source": [
    "pred = rfe.predict(X_test)"
   ]
  },
  {
   "cell_type": "markdown",
   "metadata": {},
   "source": [
    "Calculating the Root Mean Squared Error"
   ]
  },
  {
   "cell_type": "code",
   "execution_count": 22,
   "metadata": {
    "ExecuteTime": {
     "end_time": "2020-02-15T08:20:06.101680Z",
     "start_time": "2020-02-15T08:20:02.150342Z"
    }
   },
   "outputs": [
    {
     "name": "stdout",
     "output_type": "stream",
     "text": [
      "7.707986192397071e-05\n"
     ]
    }
   ],
   "source": [
    "rmse = np.sqrt(mean_squared_error(y_test, pred))\n",
    "print(rmse)"
   ]
  },
  {
   "cell_type": "markdown",
   "metadata": {},
   "source": [
    "--------------"
   ]
  },
  {
   "cell_type": "markdown",
   "metadata": {},
   "source": [
    "Importing Test data file of Kaggle competition"
   ]
  },
  {
   "cell_type": "code",
   "execution_count": 23,
   "metadata": {
    "ExecuteTime": {
     "end_time": "2020-02-15T08:20:13.588381Z",
     "start_time": "2020-02-15T08:20:07.006654Z"
    }
   },
   "outputs": [],
   "source": [
    "test_set = pd.read_csv(\"test.csv\")"
   ]
  },
  {
   "cell_type": "code",
   "execution_count": 24,
   "metadata": {
    "ExecuteTime": {
     "end_time": "2020-02-15T08:20:15.105527Z",
     "start_time": "2020-02-15T08:20:14.494553Z"
    }
   },
   "outputs": [],
   "source": [
    "test_data = test_set[test_set.columns[1:13]]"
   ]
  },
  {
   "cell_type": "markdown",
   "metadata": {},
   "source": [
    "Predicting Test Target Variable"
   ]
  },
  {
   "cell_type": "code",
   "execution_count": 25,
   "metadata": {
    "ExecuteTime": {
     "end_time": "2020-02-15T08:35:35.263795Z",
     "start_time": "2020-02-15T08:20:15.584701Z"
    }
   },
   "outputs": [],
   "source": [
    "etr_test_pred = rfe.predict(test_data)"
   ]
  },
  {
   "cell_type": "markdown",
   "metadata": {},
   "source": [
    "Making sure that the index value starts from 1"
   ]
  },
  {
   "cell_type": "code",
   "execution_count": 26,
   "metadata": {
    "ExecuteTime": {
     "end_time": "2020-02-15T08:35:42.314517Z",
     "start_time": "2020-02-15T08:35:41.466069Z"
    }
   },
   "outputs": [],
   "source": [
    "test_pred = pd.DataFrame(etr_test_pred)\n",
    "test_pred.index += 1"
   ]
  },
  {
   "cell_type": "markdown",
   "metadata": {},
   "source": [
    "Exporting the Predicted values to a CSV file to upload into Kaggle"
   ]
  },
  {
   "cell_type": "code",
   "execution_count": 27,
   "metadata": {
    "ExecuteTime": {
     "end_time": "2020-02-15T08:38:46.839960Z",
     "start_time": "2020-02-15T08:38:42.609218Z"
    }
   },
   "outputs": [],
   "source": [
    "test_pred.to_csv(\"test_predictions.csv\", index = True, index_label=\"Id\", header = [\"prediction1\"])"
   ]
  }
 ],
 "metadata": {
  "kernelspec": {
   "display_name": "Python 3",
   "language": "python",
   "name": "python3"
  },
  "language_info": {
   "codemirror_mode": {
    "name": "ipython",
    "version": 3
   },
   "file_extension": ".py",
   "mimetype": "text/x-python",
   "name": "python",
   "nbconvert_exporter": "python",
   "pygments_lexer": "ipython3",
   "version": "3.7.6"
  },
  "varInspector": {
   "cols": {
    "lenName": 16,
    "lenType": 16,
    "lenVar": 40
   },
   "kernels_config": {
    "python": {
     "delete_cmd_postfix": "",
     "delete_cmd_prefix": "del ",
     "library": "var_list.py",
     "varRefreshCmd": "print(var_dic_list())"
    },
    "r": {
     "delete_cmd_postfix": ") ",
     "delete_cmd_prefix": "rm(",
     "library": "var_list.r",
     "varRefreshCmd": "cat(var_dic_list()) "
    }
   },
   "types_to_exclude": [
    "module",
    "function",
    "builtin_function_or_method",
    "instance",
    "_Feature"
   ],
   "window_display": false
  }
 },
 "nbformat": 4,
 "nbformat_minor": 2
}
